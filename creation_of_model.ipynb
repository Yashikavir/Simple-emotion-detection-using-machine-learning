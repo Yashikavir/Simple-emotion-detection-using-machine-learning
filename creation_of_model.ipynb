{
 "cells": [
  {
   "cell_type": "code",
   "execution_count": 2,
   "metadata": {},
   "outputs": [],
   "source": [
    "import tkinter as tk\n",
    "from tkinter import filedialog\n",
    "from tkinter import *\n",
    "\n",
    "\n"
   ]
  },
  {
   "cell_type": "code",
   "execution_count": 3,
   "metadata": {},
   "outputs": [],
   "source": [
    "from sklearn import metrics\n"
   ]
  },
  {
   "cell_type": "code",
   "execution_count": 4,
   "metadata": {},
   "outputs": [],
   "source": [
    "\n",
    "\n",
    "from tensorflow.keras.models import model_from_json\n",
    "from PIL import Image, ImageTk\n",
    "import numpy as np\n",
    "import cv2"
   ]
  },
  {
   "cell_type": "code",
   "execution_count": 5,
   "metadata": {},
   "outputs": [],
   "source": [
    "\n",
    "\n",
    "def FacialExpressionModel(json_file, weights_file):\n",
    "    with open(json_file,\"r\") as file:\n",
    "        loaded_model_json = file.read()\n",
    "        model = model_from_json(loaded_model_json)\n",
    "\n",
    "    model.load_weights(weights_file)\n",
    "    model.compile(optimizer ='adam', loss='categorical_crossentropy', metrics = ['accuracy'])\n",
    "\n",
    "    return model"
   ]
  },
  {
   "cell_type": "code",
   "execution_count": 6,
   "metadata": {},
   "outputs": [],
   "source": [
    "top =tk.Tk()\n",
    "top.geometry('800x600')\n",
    "top.title('Emotion Detector')\n",
    "top.configure(background='#CDCDCD')\n"
   ]
  },
  {
   "cell_type": "code",
   "execution_count": 7,
   "metadata": {},
   "outputs": [],
   "source": [
    "label1 = Label(top, background='#CDCDCD', font=('arial',15,'bold'))\n",
    "sign_image = Label(top)\n"
   ]
  },
  {
   "cell_type": "code",
   "execution_count": 8,
   "metadata": {},
   "outputs": [
    {
     "name": "stderr",
     "output_type": "stream",
     "text": [
      "[ERROR:0@0.314] global /private/var/folders/k1/30mswbxs7r1g6zwn8y4fyt500000gp/T/abs_11nitadzeg/croot/opencv-suite_1691620374638/work/modules/core/src/persistence.cpp (505) open Can't open file: 'haarcascade_frontalface_default.xml' in read mode\n"
     ]
    }
   ],
   "source": [
    "facec = cv2.CascadeClassifier('haarcascade_frontalface_default.xml')\n"
   ]
  },
  {
   "cell_type": "code",
   "execution_count": 9,
   "metadata": {},
   "outputs": [],
   "source": [
    "model = FacialExpressionModel(\"/Users/tvs/model_a.json\",\"/Users/tvs/model_weights.h5\")\n"
   ]
  },
  {
   "cell_type": "code",
   "execution_count": 10,
   "metadata": {},
   "outputs": [],
   "source": [
    "EMOTIONS_LIST = [\"Angry\",\"Disgust\",\"Fear\",\"Happy\",\"Neutral\",\"Sad\",\"Surprise\"]"
   ]
  },
  {
   "cell_type": "code",
   "execution_count": 11,
   "metadata": {},
   "outputs": [],
   "source": [
    "def Detect(file_path):\n",
    "    global Label_packed\n",
    "\n",
    "    image = cv2.imread(file_path)\n",
    "    gray_image = cv2.cvtColor(image,cv2.COLOR_BGR2GRAY)\n",
    "    faces = facec.detectMultiScale(gray_image,1.3,5)\n",
    "    try:\n",
    "        for (x,y,w,h) in faces:\n",
    "            fc = gray_image[y:y+h,x:x+w]\n",
    "            roi = cv2.resize(fc,(48,48))\n",
    "            pred = EMOTIONS_LIST[np.argmax(model.predict(roi[np.newaxis,:,:,np.newaxis]))]\n",
    "        print(\"Predicted Emotion is\" + pred)\n",
    "        label1.configure(foreground=\"#011638\",text = pred)\n",
    "    except:\n",
    "        label1.configure(foreground=\"#011638\",text = \"Unable to detect\")\n",
    "\n"
   ]
  },
  {
   "cell_type": "code",
   "execution_count": 12,
   "metadata": {},
   "outputs": [],
   "source": [
    "def show_Detect_button(file_path):\n",
    "    detect_b = Button(top,text=\"Detect Emotion\", command= lambda: Detect(file_path),padx=10,pady=5)\n",
    "    detect_b.configure(background=\"#364156\",foreground='white',font=('arial',10,'bold'))\n",
    "    detect_b.place(relx =0.79,rely=0.46)\n"
   ]
  },
  {
   "cell_type": "code",
   "execution_count": 13,
   "metadata": {},
   "outputs": [],
   "source": [
    "def upload_image():\n",
    "    try:\n",
    "        file_path = filedialog.askopenfilename()\n",
    "        uploaded = Image.open(file_path)\n",
    "        uploaded.thumbnail(((top.winfo_width()/2.25), (top.winfo_height()/2.25)))\n",
    "        im = ImageTk.PhotoImage(uploaded)\n",
    "\n",
    "        sign_image.configure(image=im)\n",
    "        sign_image.image = im\n",
    "        label1.configure(text='')\n",
    "        show_Detect_button(file_path)\n",
    "    except:\n",
    "        pass"
   ]
  },
  {
   "cell_type": "code",
   "execution_count": 14,
   "metadata": {},
   "outputs": [],
   "source": [
    "upload = Button(top, text=\"Upload Image\", command=upload_image, padx=10, pady=5)\n",
    "upload.configure(background=\"#364156\",foreground='white',font=('arial',20,'bold'))\n",
    "upload.pack(side='bottom',pady=50)\n",
    "sign_image.pack(side='bottom', expand='True')\n",
    "label1.pack(side='bottom', expand='True')\n",
    "heading = Label(top,text='Emotion Detector',pady=20,font=('arial',25,'bold'))\n",
    "heading.configure(background='#CDCDCD',foreground=\"#364156\")\n",
    "heading.pack()\n",
    "top.mainloop()"
   ]
  }
 ],
 "metadata": {
  "kernelspec": {
   "display_name": "emotiondetector",
   "language": "python",
   "name": "python3"
  },
  "language_info": {
   "codemirror_mode": {
    "name": "ipython",
    "version": 3
   },
   "file_extension": ".py",
   "mimetype": "text/x-python",
   "name": "python",
   "nbconvert_exporter": "python",
   "pygments_lexer": "ipython3",
   "version": "3.9.18"
  }
 },
 "nbformat": 4,
 "nbformat_minor": 2
}
